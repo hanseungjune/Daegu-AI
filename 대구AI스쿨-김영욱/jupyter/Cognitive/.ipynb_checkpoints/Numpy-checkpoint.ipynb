{
 "cells": [
  {
   "cell_type": "markdown",
   "id": "077dbd2d",
   "metadata": {},
   "source": [
    "# Numpy\n",
    "## Numpy의 소개\n",
    "\n",
    "NumPy(Numerical Python)는 파이썬에서 과학적 계산을 위한 핵심 라이브러리이다. \n",
    "NumPy는 다차원 배열 객체와 배열과 함께 작동하는 도구들을 제공한다. \n",
    "하지만 NumPy 자체로는 고수준의 데이터 분석 기능을 제공하지 않기 때문에 NumPy 배열과 배열 기반 컴퓨팅의 이해를 통해\n",
    "pandas와 같은 도구를 좀 더 효율적으로 사용하는 것이 필요하다. "
   ]
  },
  {
   "cell_type": "markdown",
   "id": "03ab946c",
   "metadata": {},
   "source": [
    "### ndarray 생성\n",
    "\n",
    "array 함수를 사용하여 배열 생성하기"
   ]
  },
  {
   "cell_type": "code",
   "execution_count": 67,
   "id": "dd0e141f",
   "metadata": {},
   "outputs": [],
   "source": [
    "import numpy as np"
   ]
  },
  {
   "cell_type": "code",
   "execution_count": 68,
   "id": "6beb2c99",
   "metadata": {},
   "outputs": [],
   "source": [
    "# ndarray를 생성\n",
    "arr = np.array([1,2,3,4])"
   ]
  },
  {
   "cell_type": "code",
   "execution_count": 69,
   "id": "78163f55",
   "metadata": {},
   "outputs": [],
   "source": [
    "# print(arr)"
   ]
  },
  {
   "cell_type": "code",
   "execution_count": 70,
   "id": "961a34e4",
   "metadata": {},
   "outputs": [],
   "source": [
    "# type(arr)"
   ]
  },
  {
   "cell_type": "code",
   "execution_count": 71,
   "id": "59afe35b",
   "metadata": {},
   "outputs": [
    {
     "data": {
      "text/plain": [
       "array([[0., 0., 0.],\n",
       "       [0., 0., 0.],\n",
       "       [0., 0., 0.]])"
      ]
     },
     "execution_count": 71,
     "metadata": {},
     "output_type": "execute_result"
    }
   ],
   "source": [
    "np.zeros((3,3))"
   ]
  },
  {
   "cell_type": "code",
   "execution_count": 72,
   "id": "81e5cc91",
   "metadata": {},
   "outputs": [],
   "source": [
    "# np.ones((3,3))"
   ]
  },
  {
   "cell_type": "code",
   "execution_count": 73,
   "id": "956c43d9",
   "metadata": {},
   "outputs": [
    {
     "data": {
      "text/plain": [
       "array([[6.23042070e-307, 4.67296746e-307, 1.69121096e-306,\n",
       "        8.34441742e-308],\n",
       "       [1.78022342e-306, 6.23058028e-307, 9.79107872e-307,\n",
       "        6.89807188e-307],\n",
       "       [7.56594375e-307, 6.23060065e-307, 1.78021527e-306,\n",
       "        8.34454050e-308],\n",
       "       [1.11261027e-306, 1.15706896e-306, 1.33512173e-306,\n",
       "        6.89772897e-307]])"
      ]
     },
     "execution_count": 73,
     "metadata": {},
     "output_type": "execute_result"
    }
   ],
   "source": [
    "np.empty((4,4))"
   ]
  },
  {
   "cell_type": "code",
   "execution_count": 74,
   "id": "cf12e42f",
   "metadata": {},
   "outputs": [
    {
     "data": {
      "text/plain": [
       "array([0, 1, 2, 3, 4, 5, 6, 7, 8, 9])"
      ]
     },
     "execution_count": 74,
     "metadata": {},
     "output_type": "execute_result"
    }
   ],
   "source": [
    "np.arange(10)"
   ]
  },
  {
   "cell_type": "markdown",
   "id": "b6c827d1",
   "metadata": {},
   "source": [
    "### ndarray 배열의 모양, 차수, 데이터 타입 확인하기"
   ]
  },
  {
   "cell_type": "code",
   "execution_count": 75,
   "id": "f7c1dc82",
   "metadata": {},
   "outputs": [],
   "source": [
    "arr = np.array([[1,2,3],[4,5,6]])"
   ]
  },
  {
   "cell_type": "code",
   "execution_count": 76,
   "id": "61c8f9cf",
   "metadata": {},
   "outputs": [
    {
     "data": {
      "text/plain": [
       "(2, 3)"
      ]
     },
     "execution_count": 76,
     "metadata": {},
     "output_type": "execute_result"
    }
   ],
   "source": [
    "arr.shape"
   ]
  },
  {
   "cell_type": "code",
   "execution_count": 77,
   "id": "70b29fbc",
   "metadata": {},
   "outputs": [
    {
     "data": {
      "text/plain": [
       "2"
      ]
     },
     "execution_count": 77,
     "metadata": {},
     "output_type": "execute_result"
    }
   ],
   "source": [
    "arr.ndim"
   ]
  },
  {
   "cell_type": "code",
   "execution_count": 78,
   "id": "2872907e",
   "metadata": {},
   "outputs": [
    {
     "data": {
      "text/plain": [
       "dtype('int32')"
      ]
     },
     "execution_count": 78,
     "metadata": {},
     "output_type": "execute_result"
    }
   ],
   "source": [
    "arr.dtype"
   ]
  },
  {
   "cell_type": "code",
   "execution_count": 79,
   "id": "df324210",
   "metadata": {},
   "outputs": [],
   "source": [
    "arr_float = arr.astype(np.float64)"
   ]
  },
  {
   "cell_type": "code",
   "execution_count": 80,
   "id": "2eca96bf",
   "metadata": {},
   "outputs": [
    {
     "name": "stdout",
     "output_type": "stream",
     "text": [
      "[[1. 2. 3.]\n",
      " [4. 5. 6.]]\n"
     ]
    }
   ],
   "source": [
    "print(arr_float)"
   ]
  },
  {
   "cell_type": "code",
   "execution_count": 81,
   "id": "f654f4f1",
   "metadata": {},
   "outputs": [
    {
     "data": {
      "text/plain": [
       "dtype('float64')"
      ]
     },
     "execution_count": 81,
     "metadata": {},
     "output_type": "execute_result"
    }
   ],
   "source": [
    "arr_float.dtype"
   ]
  },
  {
   "cell_type": "code",
   "execution_count": 82,
   "id": "d8e301bd",
   "metadata": {},
   "outputs": [
    {
     "name": "stdout",
     "output_type": "stream",
     "text": [
      "[[ 5 12]\n",
      " [21 32]]\n"
     ]
    }
   ],
   "source": [
    "arr1 = np.array([[1,2],[3,4]])\n",
    "arr2 = np.array([[5,6],[7,8]])\n",
    "\n",
    "# arr3 = arr1 * arr2\n",
    "# arr3 = np.add(arr1, arr2)\n",
    "arr3 = np.multiply(arr1, arr2)\n",
    "\n",
    "print(arr3)"
   ]
  },
  {
   "cell_type": "markdown",
   "id": "05c0981f",
   "metadata": {},
   "source": [
    "Numpy 배열의 연산은 연산자 (+,-,*,/)나 함수(add, subtract, multiply, divide)로 가능하다. "
   ]
  },
  {
   "cell_type": "markdown",
   "id": "d79770f4",
   "metadata": {},
   "source": [
    "### ndarray 배열 슬라이싱 하기\n",
    "\n",
    "ndarray 배열 슬라이싱 하기"
   ]
  },
  {
   "cell_type": "code",
   "execution_count": 83,
   "id": "71e949a9",
   "metadata": {},
   "outputs": [],
   "source": [
    "# 배열 슬라이싱\n",
    "arr = np.array([[1,2,3],[4,5,6],[7,8,9]])"
   ]
  },
  {
   "cell_type": "code",
   "execution_count": 84,
   "id": "b2c7aeef",
   "metadata": {},
   "outputs": [
    {
     "name": "stdout",
     "output_type": "stream",
     "text": [
      "[[2 3]\n",
      " [5 6]]\n"
     ]
    }
   ],
   "source": [
    "arr_1 = arr[:2, 1:3]\n",
    "print(arr_1)"
   ]
  },
  {
   "cell_type": "code",
   "execution_count": 85,
   "id": "4dd802ce",
   "metadata": {},
   "outputs": [
    {
     "data": {
      "text/plain": [
       "(2, 2)"
      ]
     },
     "execution_count": 85,
     "metadata": {},
     "output_type": "execute_result"
    }
   ],
   "source": [
    "arr_1.shape"
   ]
  },
  {
   "cell_type": "code",
   "execution_count": 86,
   "id": "399ca6e0",
   "metadata": {},
   "outputs": [
    {
     "name": "stdout",
     "output_type": "stream",
     "text": [
      "[0 3 6]\n"
     ]
    }
   ],
   "source": [
    "arr_int = np.arange(10)\n",
    "# arr_int\n",
    "print(arr_int[0:8:3])"
   ]
  },
  {
   "cell_type": "code",
   "execution_count": 87,
   "id": "f83d7613",
   "metadata": {},
   "outputs": [
    {
     "name": "stdout",
     "output_type": "stream",
     "text": [
      "3\n"
     ]
    }
   ],
   "source": [
    "print(arr[0,2])"
   ]
  },
  {
   "cell_type": "code",
   "execution_count": 88,
   "id": "30384617",
   "metadata": {},
   "outputs": [],
   "source": [
    "arr = np.array([[1,2,3],[4,5,6]])"
   ]
  },
  {
   "cell_type": "code",
   "execution_count": 89,
   "id": "4428ce28",
   "metadata": {},
   "outputs": [],
   "source": [
    "idx = arr > 3"
   ]
  },
  {
   "cell_type": "code",
   "execution_count": 90,
   "id": "dc8aef9e",
   "metadata": {},
   "outputs": [
    {
     "name": "stdout",
     "output_type": "stream",
     "text": [
      "[[False False False]\n",
      " [ True  True  True]]\n"
     ]
    }
   ],
   "source": [
    "print(idx)"
   ]
  },
  {
   "cell_type": "code",
   "execution_count": 91,
   "id": "bbaaa056",
   "metadata": {},
   "outputs": [
    {
     "name": "stdout",
     "output_type": "stream",
     "text": [
      "[4 5 6]\n"
     ]
    }
   ],
   "source": [
    "print(arr[idx])"
   ]
  },
  {
   "cell_type": "code",
   "execution_count": 94,
   "id": "e2bb31e5",
   "metadata": {},
   "outputs": [],
   "source": [
    "import numpy as np\n",
    "\n",
    "##winequality-red.csv 파일 불러오기\n",
    "redwine = np.loadtxt(fname = 'samples/winequality-red.csv', delimiter=';', skiprows = 1)"
   ]
  },
  {
   "cell_type": "code",
   "execution_count": 98,
   "id": "fc76712e",
   "metadata": {},
   "outputs": [
    {
     "data": {
      "text/plain": [
       "(1599, 12)"
      ]
     },
     "execution_count": 98,
     "metadata": {},
     "output_type": "execute_result"
    }
   ],
   "source": [
    "redwine.shape"
   ]
  },
  {
   "cell_type": "code",
   "execution_count": 99,
   "id": "697b00c3",
   "metadata": {},
   "outputs": [
    {
     "name": "stdout",
     "output_type": "stream",
     "text": [
      "[[ 7.4    0.7    0.    ...  0.56   9.4    5.   ]\n",
      " [ 7.8    0.88   0.    ...  0.68   9.8    5.   ]\n",
      " [ 7.8    0.76   0.04  ...  0.65   9.8    5.   ]\n",
      " ...\n",
      " [ 6.3    0.51   0.13  ...  0.75  11.     6.   ]\n",
      " [ 5.9    0.645  0.12  ...  0.71  10.2    5.   ]\n",
      " [ 6.     0.31   0.47  ...  0.66  11.     6.   ]]\n"
     ]
    }
   ],
   "source": [
    "print(redwine)"
   ]
  },
  {
   "cell_type": "code",
   "execution_count": 100,
   "id": "7d70bd39",
   "metadata": {},
   "outputs": [
    {
     "data": {
      "text/plain": [
       "numpy.ndarray"
      ]
     },
     "execution_count": 100,
     "metadata": {},
     "output_type": "execute_result"
    }
   ],
   "source": [
    "type(redwine)"
   ]
  },
  {
   "cell_type": "code",
   "execution_count": 102,
   "id": "b77f5dac",
   "metadata": {},
   "outputs": [
    {
     "name": "stdout",
     "output_type": "stream",
     "text": [
      "152084.78194\n"
     ]
    }
   ],
   "source": [
    "print(redwine.sum())"
   ]
  },
  {
   "cell_type": "code",
   "execution_count": 104,
   "id": "e4d178d4",
   "metadata": {},
   "outputs": [
    {
     "name": "stdout",
     "output_type": "stream",
     "text": [
      "7.926036165311652\n"
     ]
    }
   ],
   "source": [
    "print(redwine.mean())"
   ]
  },
  {
   "cell_type": "code",
   "execution_count": 106,
   "id": "a0235438",
   "metadata": {},
   "outputs": [
    {
     "name": "stdout",
     "output_type": "stream",
     "text": [
      "[ 8.31963727  0.52782051  0.27097561  2.5388055   0.08746654 15.87492183\n",
      " 46.46779237  0.99674668  3.3111132   0.65814884 10.42298311  5.63602251]\n"
     ]
    }
   ],
   "source": [
    "print(redwine.mean(axis=0))"
   ]
  },
  {
   "cell_type": "code",
   "execution_count": 107,
   "id": "643e2940",
   "metadata": {},
   "outputs": [
    {
     "name": "stdout",
     "output_type": "stream",
     "text": [
      "8.31963727329581\n"
     ]
    }
   ],
   "source": [
    "print(redwine[:,0].mean())                   #첫번째 축(0번 배열)에 대한것만 가져옴"
   ]
  },
  {
   "cell_type": "code",
   "execution_count": null,
   "id": "9ca5690d",
   "metadata": {},
   "outputs": [],
   "source": []
  },
  {
   "cell_type": "code",
   "execution_count": null,
   "id": "fd3db1de",
   "metadata": {},
   "outputs": [],
   "source": []
  },
  {
   "cell_type": "code",
   "execution_count": null,
   "id": "de38daff",
   "metadata": {},
   "outputs": [],
   "source": []
  }
 ],
 "metadata": {
  "kernelspec": {
   "display_name": "Python 3 (ipykernel)",
   "language": "python",
   "name": "python3"
  },
  "language_info": {
   "codemirror_mode": {
    "name": "ipython",
    "version": 3
   },
   "file_extension": ".py",
   "mimetype": "text/x-python",
   "name": "python",
   "nbconvert_exporter": "python",
   "pygments_lexer": "ipython3",
   "version": "3.9.7"
  }
 },
 "nbformat": 4,
 "nbformat_minor": 5
}
